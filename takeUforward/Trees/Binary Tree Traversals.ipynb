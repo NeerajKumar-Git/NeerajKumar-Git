{
 "cells": [
  {
   "cell_type": "code",
   "execution_count": 2,
   "metadata": {},
   "outputs": [],
   "source": [
    "class Node:\n",
    "    def __init__(self, data):\n",
    "        self.data = data\n",
    "        self.left = None\n",
    "        self.right = None"
   ]
  },
  {
   "cell_type": "code",
   "execution_count": 3,
   "metadata": {},
   "outputs": [],
   "source": [
    "import queue\n",
    "def takelistinput():\n",
    "    q = queue.Queue()\n",
    "    input_list = [ele for ele in input().split()]\n",
    "    if input_list[0] == '.': return None\n",
    "    i=1\n",
    "    j=2\n",
    "    root = Node(int(input_list[0]))\n",
    "    q.put(root)\n",
    "    while i < len(input_list) and j < len(input_list):\n",
    "        curr = q.get()\n",
    "        if input_list[i] != '.':\n",
    "            newnode = Node(int(input_list[i]))\n",
    "            curr.left = newnode\n",
    "            q.put(newnode)\n",
    "            \n",
    "        if input_list[j] != '.':\n",
    "            newnode = Node(int(input_list[j]))\n",
    "            curr.right = newnode\n",
    "            q.put(newnode)\n",
    "        i+=2\n",
    "        j+=2\n",
    "    return root\n",
    "\n",
    "def printtree(root):\n",
    "    q = queue.Queue()\n",
    "    if root is None: return\n",
    "    q.put(root)\n",
    "    while q.empty() is False:\n",
    "        curr = q.get()\n",
    "        print(str(curr.data)+':',end = ' ')\n",
    "        if curr.left is not None:\n",
    "            print('L'+str(curr.left.data),end=',')\n",
    "            q.put(curr.left)\n",
    "        if curr.right is not None:\n",
    "            print('R'+str(curr.right.data),end='')\n",
    "            q.put(curr.right)\n",
    "        print()"
   ]
  },
  {
   "cell_type": "markdown",
   "metadata": {},
   "source": [
    "# =================== Level Order Traversal ======================="
   ]
  },
  {
   "cell_type": "code",
   "execution_count": 4,
   "metadata": {},
   "outputs": [],
   "source": [
    "import queue\n",
    "def level_order(root):\n",
    "    if root is None: return []\n",
    "    ans = []\n",
    "    q = queue.Queue()\n",
    "    q.put(root)\n",
    "    while q.empty() is False:\n",
    "        size = q.qsize()\n",
    "        level = []\n",
    "        for i in range(size):\n",
    "            curr = q.get()\n",
    "            if curr.left is not None:\n",
    "                q.put(curr.left)\n",
    "            if curr.right is not None:\n",
    "                q.put(curr.right)\n",
    "            level.append(curr.data)\n",
    "        ans.append(level)\n",
    "    return ans"
   ]
  },
  {
   "cell_type": "markdown",
   "metadata": {},
   "source": [
    "# =================== Pre Order Traversal ======================="
   ]
  },
  {
   "cell_type": "code",
   "execution_count": 5,
   "metadata": {},
   "outputs": [],
   "source": [
    "# iterative\n",
    "def preorder(root):\n",
    "    ans = []\n",
    "    if root is None: return ans\n",
    "    stack = [root]\n",
    "    while len(stack) != 0:\n",
    "        curr = stack.pop()\n",
    "        if curr.right is not None:\n",
    "            stack.append(curr.right)\n",
    "        if curr.left is not None:\n",
    "            stack.append(curr.left)\n",
    "        ans.append(curr.data)\n",
    "    return ans\n",
    "\n",
    "# recursive\n",
    "def preorder_r(root):\n",
    "    if root is None: return []\n",
    "    lefttree = preorder(root.left)\n",
    "    righttree = preorder(root.right)\n",
    "    return [root.data]+lefttree+righttree"
   ]
  },
  {
   "cell_type": "markdown",
   "metadata": {},
   "source": [
    "# =================== In Order Traversal ======================="
   ]
  },
  {
   "cell_type": "code",
   "execution_count": 6,
   "metadata": {},
   "outputs": [],
   "source": [
    "# iterative\n",
    "def inorder(root):\n",
    "    ans = []\n",
    "    if root is None: return ans\n",
    "    stack = [root]\n",
    "    node = root\n",
    "    while stack != []:\n",
    "        if node is None:\n",
    "            node = stack.pop()\n",
    "            ans.append(node.data)\n",
    "            node = node.right\n",
    "        else:\n",
    "            stack.append(node)\n",
    "            node = node.left\n",
    "    ans.pop()\n",
    "    return ans\n",
    "\n",
    "# recursive\n",
    "def inorder_r(root):\n",
    "    if root is None: return []\n",
    "    lefttree = inorder(root.left)\n",
    "    righttree = inorder(root.right)\n",
    "    return lefttree+[root.data]+righttree"
   ]
  },
  {
   "cell_type": "markdown",
   "metadata": {},
   "source": [
    "# =================== Post Order Traversal ======================="
   ]
  },
  {
   "cell_type": "code",
   "execution_count": 7,
   "metadata": {},
   "outputs": [],
   "source": [
    "# iterative using two stacks\n",
    "def postorder2(root):\n",
    "    ans = []\n",
    "    if root is None: return ans\n",
    "    st1 = [root]\n",
    "    st2 = []\n",
    "    while st1 != []:\n",
    "        curr = st1.pop()\n",
    "        st2.append(curr.data)\n",
    "        if curr.left is not None:\n",
    "            st1.append(curr.left)\n",
    "        if curr.right is not None:\n",
    "            st1.append(curr.right)\n",
    "    return st2[::-1]\n",
    "\n",
    "# iterative using a single stack (O(2n) -> complexity)\n",
    "# tricky one\n",
    "def postorder1(root):\n",
    "    ans = []\n",
    "    if root is None: return ans\n",
    "    curr = root\n",
    "    stack = []\n",
    "    while curr != None or stack != []:\n",
    "        if curr is not None:\n",
    "            stack.append(curr)\n",
    "            curr = curr.left\n",
    "        else:\n",
    "            temp = stack[-1].right\n",
    "            if temp != None:\n",
    "                curr = temp\n",
    "            else:\n",
    "                temp = stack.pop()\n",
    "                ans.append(temp.data)\n",
    "                while (stack != [] and temp == stack[-1].right):\n",
    "                    temp = stack.pop()\n",
    "                    ans.append(temp.data)\n",
    "    return ans\n",
    "\n",
    "# recursive\n",
    "def postorder_r(root):\n",
    "    if root is None: return []\n",
    "    lefttree = postorder(root.left)\n",
    "    righttree = postorder(root.right)\n",
    "    return lefttree+righttree+[root.data]"
   ]
  },
  {
   "cell_type": "markdown",
   "metadata": {},
   "source": [
    "### =================== Preorder/ Postorder/ Inorder Traversal in single flow ======================="
   ]
  },
  {
   "cell_type": "code",
   "execution_count": 8,
   "metadata": {},
   "outputs": [],
   "source": [
    "def all_traversals(root):\n",
    "    if root is None: return [],[],[]\n",
    "    preorder = []\n",
    "    inorder = []\n",
    "    postorder = []\n",
    "    stack = [[root,1]]\n",
    "    while stack != []:\n",
    "        curr,num = stack[-1]\n",
    "        if num == 1:\n",
    "            preorder.append(curr.data)\n",
    "            num+=1\n",
    "            stack[-1][-1]=num\n",
    "            if curr.left is not None: stack.append([curr.left,1])\n",
    "        elif num == 2:\n",
    "            inorder.append(curr.data)\n",
    "            num+=1\n",
    "            stack[-1][-1]=num\n",
    "            if curr.right is not None: stack.append([curr.right,1])\n",
    "        elif num == 3:\n",
    "            postorder.append(curr.data)\n",
    "            stack.pop()\n",
    "    return preorder, inorder, postorder"
   ]
  },
  {
   "cell_type": "code",
   "execution_count": 9,
   "metadata": {
    "scrolled": true
   },
   "outputs": [
    {
     "name": "stdout",
     "output_type": "stream",
     "text": [
      "1 2 3 4 5 6 7 . . . . . . . .\n",
      "[4, 5, 2, 6, 7, 3, 1]\n"
     ]
    }
   ],
   "source": [
    "root = takelistinput()\n",
    "# preorder, inorder, postorder = all_traversals(root)\n",
    "print(postorder1(root))\n",
    "# print(preorder)\n",
    "# print(inorder)\n",
    "# print(postorder)"
   ]
  },
  {
   "cell_type": "code",
   "execution_count": null,
   "metadata": {},
   "outputs": [],
   "source": []
  },
  {
   "cell_type": "code",
   "execution_count": null,
   "metadata": {},
   "outputs": [],
   "source": []
  }
 ],
 "metadata": {
  "kernelspec": {
   "display_name": "Python 3",
   "language": "python",
   "name": "python3"
  },
  "language_info": {
   "codemirror_mode": {
    "name": "ipython",
    "version": 3
   },
   "file_extension": ".py",
   "mimetype": "text/x-python",
   "name": "python",
   "nbconvert_exporter": "python",
   "pygments_lexer": "ipython3",
   "version": "3.8.5"
  }
 },
 "nbformat": 4,
 "nbformat_minor": 4
}
