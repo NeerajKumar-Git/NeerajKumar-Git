{
 "cells": [
  {
   "cell_type": "code",
   "execution_count": 1,
   "metadata": {},
   "outputs": [],
   "source": [
    "class Node:\n",
    "    def __init__(self, data):\n",
    "        self.data = data\n",
    "        self.left = None\n",
    "        self.right = None\n",
    "# =============================================================================================================================\n",
    "import queue\n",
    "def takelistinput():\n",
    "    q = queue.Queue()\n",
    "    input_list = [ele for ele in input().split()]\n",
    "    if input_list[0] == '.': return None\n",
    "    i=1\n",
    "    j=2\n",
    "    root = Node(int(input_list[0]))\n",
    "    q.put(root)\n",
    "    while i < len(input_list) and j < len(input_list):\n",
    "        curr = q.get()\n",
    "        if input_list[i] != '.':\n",
    "            newnode = Node(int(input_list[i]))\n",
    "            curr.left = newnode\n",
    "            q.put(newnode)\n",
    "            \n",
    "        if input_list[j] != '.':\n",
    "            newnode = Node(int(input_list[j]))\n",
    "            curr.right = newnode\n",
    "            q.put(newnode)\n",
    "        i+=2\n",
    "        j+=2\n",
    "    return root\n",
    "\n",
    "def printtree(root):\n",
    "    q = queue.Queue()\n",
    "    if root is None: return\n",
    "    q.put(root)\n",
    "    while q.empty() is False:\n",
    "        curr = q.get()\n",
    "        print(str(curr.data)+':',end = ' ')\n",
    "        if curr.left is not None:\n",
    "            print('L'+str(curr.left.data),end=',')\n",
    "            q.put(curr.left)\n",
    "        if curr.right is not None:\n",
    "            print('R'+str(curr.right.data),end='')\n",
    "            q.put(curr.right)\n",
    "        print()"
   ]
  },
  {
   "cell_type": "code",
   "execution_count": null,
   "metadata": {},
   "outputs": [],
   "source": [
    "def check_balanced(root):\n",
    "    if helper_height(root) == -1:\n",
    "        return False\n",
    "    return True\n",
    "    def helper_height(root):\n",
    "        if root is None: return 0\n",
    "        lefth = helper_height(root.left)\n",
    "        if lefth == -1: return -1\n",
    "        righth = helper_height(root.right)\n",
    "        if righth == -1: return -1\n",
    "        \n",
    "        if abs(lefth - righth) > 1: return -1\n",
    "        return max(lefth,righth)+1"
   ]
  }
 ],
 "metadata": {
  "kernelspec": {
   "display_name": "Python 3",
   "language": "python",
   "name": "python3"
  },
  "language_info": {
   "codemirror_mode": {
    "name": "ipython",
    "version": 3
   },
   "file_extension": ".py",
   "mimetype": "text/x-python",
   "name": "python",
   "nbconvert_exporter": "python",
   "pygments_lexer": "ipython3",
   "version": "3.8.5"
  }
 },
 "nbformat": 4,
 "nbformat_minor": 5
}
