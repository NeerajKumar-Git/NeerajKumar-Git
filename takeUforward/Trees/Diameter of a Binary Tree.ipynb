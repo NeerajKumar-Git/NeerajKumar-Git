{
 "cells": [
  {
   "cell_type": "code",
   "execution_count": 1,
   "metadata": {},
   "outputs": [],
   "source": [
    "class Node:\n",
    "    def __init__(self,data):\n",
    "        self.data = data\n",
    "        self.left = None\n",
    "        self.right = None"
   ]
  },
  {
   "cell_type": "markdown",
   "metadata": {},
   "source": [
    "## Diameter of a Binary Tree\n",
    "1. Longest Path between two nodes\n",
    "2. Path doesnot need to pass via root"
   ]
  },
  {
   "cell_type": "code",
   "execution_count": 6,
   "metadata": {},
   "outputs": [],
   "source": [
    "# O(n) time complexity\n",
    "# find heights of left and right sub trees and then update the value of answer\n",
    "def diameter(root,ans=[]):\n",
    "    if root is None: return 0, ans\n",
    "    lefth,leftans = diameter(root.left,ans)\n",
    "    righth,rightans = diameter(root.right,ans)\n",
    "    ans.append(lefth+righth)\n",
    "    return 1+max(lefth,righth),ans"
   ]
  },
  {
   "cell_type": "code",
   "execution_count": 7,
   "metadata": {},
   "outputs": [],
   "source": [
    "import queue\n",
    "def takelistinput():\n",
    "    inp = [ele for ele in input().split()]\n",
    "    q = queue.Queue()\n",
    "    if inp == '.': return None\n",
    "    root = Node(int(inp[0]))\n",
    "    q.put(root)\n",
    "    i=1\n",
    "    j=2\n",
    "    while i < len(inp) and j < len(inp):\n",
    "        curr = q.get()\n",
    "        if inp[i] != '.':\n",
    "            newnode = Node(int(inp[i]))\n",
    "            curr.left = newnode\n",
    "            q.put(newnode)\n",
    "        if inp[j] != '.':\n",
    "            newnode = Node(int(inp[j]))\n",
    "            curr.right = newnode\n",
    "            q.put(newnode)\n",
    "        i+=2\n",
    "        j+=2\n",
    "    return root\n",
    "\n",
    "def printtree(root):\n",
    "    if root is None: return\n",
    "    q = queue.Queue()\n",
    "    q.put(root)\n",
    "    while q.empty() is False:\n",
    "        curr = q.get()\n",
    "        print(str(curr.data)+':',end=' ')\n",
    "        if curr.left is not None:\n",
    "            print('L'+str(curr.left.data),end=',')\n",
    "            q.put(curr.left)\n",
    "        if curr.right is not None:\n",
    "            print('R'+str(curr.right.data),end='')\n",
    "            q.put(curr.right)\n",
    "        print()"
   ]
  },
  {
   "cell_type": "code",
   "execution_count": 8,
   "metadata": {},
   "outputs": [
    {
     "name": "stdout",
     "output_type": "stream",
     "text": [
      "1 2 . . .\n",
      "1\n"
     ]
    }
   ],
   "source": [
    "root = takelistinput()\n",
    "height, diameters = diameter(root)\n",
    "print(max(diameters))"
   ]
  },
  {
   "cell_type": "code",
   "execution_count": null,
   "metadata": {},
   "outputs": [],
   "source": []
  }
 ],
 "metadata": {
  "kernelspec": {
   "display_name": "Python 3",
   "language": "python",
   "name": "python3"
  },
  "language_info": {
   "codemirror_mode": {
    "name": "ipython",
    "version": 3
   },
   "file_extension": ".py",
   "mimetype": "text/x-python",
   "name": "python",
   "nbconvert_exporter": "python",
   "pygments_lexer": "ipython3",
   "version": "3.8.5"
  }
 },
 "nbformat": 4,
 "nbformat_minor": 5
}
