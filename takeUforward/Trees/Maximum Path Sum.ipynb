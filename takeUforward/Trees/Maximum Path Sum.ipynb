{
 "cells": [
  {
   "cell_type": "code",
   "execution_count": 2,
   "metadata": {},
   "outputs": [],
   "source": [
    "class Node:\n",
    "    def __init__(self,data):\n",
    "        self.data = data\n",
    "        self.left = None\n",
    "        self.right = None\n",
    "\n",
    "# takeinputlist\n",
    "import queue\n",
    "def takeinput():\n",
    "    q = queue.Queue()\n",
    "    num = input().split()\n",
    "    if num[0] == '.':\n",
    "        return None\n",
    "    root = Node(int(num[0]))\n",
    "    q.put(root)\n",
    "    i=1\n",
    "    j=2\n",
    "    while q.empty() is False:\n",
    "        curr = q.get()\n",
    "        if num[i] != '.':\n",
    "            leftnode = Node(int(num[i]))\n",
    "            curr.left = leftnode\n",
    "            q.put(leftnode)\n",
    "        if num[j] != '.':\n",
    "            rightnode = Node(int(num[j]))\n",
    "            curr.right = rightnode\n",
    "            q.put(rightnode)\n",
    "        i+=2\n",
    "        j+=2\n",
    "    return root\n",
    "\n",
    "def printtree(root):\n",
    "    q = queue.Queue()\n",
    "    if root is None:\n",
    "        return\n",
    "    q.put(root)\n",
    "    while q.empty() is False:\n",
    "        curr = q.get()\n",
    "        print(str(curr.data)+':',end=' ')\n",
    "        if curr.left is not None:\n",
    "            print('L'+str(curr.left.data),end=',')\n",
    "            q.put(curr.left)\n",
    "        if curr.right is not None:\n",
    "            print('R'+str(curr.right.data),end='')\n",
    "            q.put(curr.right)\n",
    "        print()"
   ]
  },
  {
   "cell_type": "code",
   "execution_count": 22,
   "metadata": {},
   "outputs": [
    {
     "name": "stdout",
     "output_type": "stream",
     "text": [
      "10 9 20 . . 15 7 . . . .\n",
      "54\n"
     ]
    }
   ],
   "source": [
    "def maximum_path_sum(root,ans=[]):\n",
    "    if root is None:\n",
    "        return 0,[0]\n",
    "    leftsum = max(0,maximum_path_sum(root.left,ans)[0])\n",
    "    rightsum = max(0,maximum_path_sum(root.right,ans)[0])\n",
    "    ans.append(leftsum+rightsum+root.data)\n",
    "    return root.data+max(leftsum,rightsum),ans\n",
    "\n",
    "root = takeinput()\n",
    "path,final = maximum_path_sum(root)\n",
    "print(max(final))\n"
   ]
  },
  {
   "cell_type": "code",
   "execution_count": null,
   "metadata": {},
   "outputs": [],
   "source": []
  }
 ],
 "metadata": {
  "kernelspec": {
   "display_name": "Python 3",
   "language": "python",
   "name": "python3"
  },
  "language_info": {
   "codemirror_mode": {
    "name": "ipython",
    "version": 3
   },
   "file_extension": ".py",
   "mimetype": "text/x-python",
   "name": "python",
   "nbconvert_exporter": "python",
   "pygments_lexer": "ipython3",
   "version": "3.8.5"
  }
 },
 "nbformat": 4,
 "nbformat_minor": 4
}
