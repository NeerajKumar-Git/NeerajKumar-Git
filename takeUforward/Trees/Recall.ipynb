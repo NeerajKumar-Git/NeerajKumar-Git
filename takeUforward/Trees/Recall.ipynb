{
 "cells": [
  {
   "cell_type": "code",
   "execution_count": 1,
   "metadata": {},
   "outputs": [],
   "source": [
    "class Node:\n",
    "    def __init__(self,data):\n",
    "        self.data = data\n",
    "        self.left = None\n",
    "        self.right = None"
   ]
  },
  {
   "cell_type": "code",
   "execution_count": 10,
   "metadata": {},
   "outputs": [],
   "source": [
    "# takeinputlist\n",
    "import queue\n",
    "def takeinput():\n",
    "    q = queue.Queue()\n",
    "    num = input().split()\n",
    "    if num[0] == '.':\n",
    "        return None\n",
    "    root = Node(int(num[0]))\n",
    "    q.put(root)\n",
    "    i=1\n",
    "    j=2\n",
    "    while q.empty() is False:\n",
    "        if i>= len(num):\n",
    "            break\n",
    "        curr = q.get()\n",
    "        if num[i] != '.':\n",
    "            leftnode = Node(int(num[i]))\n",
    "            curr.left = leftnode\n",
    "            q.put(leftnode)\n",
    "        if num[j] != '.':\n",
    "            rightnode = Node(int(num[j]))\n",
    "            curr.right = rightnode\n",
    "            q.put(rightnode)\n",
    "        i+=2\n",
    "        j+=2\n",
    "    return root\n",
    "\n",
    "def printtree(root):\n",
    "    q = queue.Queue()\n",
    "    if root is None:\n",
    "        return\n",
    "    q.put(root)\n",
    "    while q.empty() is False:\n",
    "        curr = q.get()\n",
    "        print(str(curr.data)+':',end=' ')\n",
    "        if curr.left is not None:\n",
    "            print('L'+str(curr.left.data),end=',')\n",
    "            q.put(curr.left)\n",
    "        if curr.right is not None:\n",
    "            print('R'+str(curr.right.data),end='')\n",
    "            q.put(curr.right)\n",
    "        print()"
   ]
  },
  {
   "cell_type": "code",
   "execution_count": 20,
   "metadata": {},
   "outputs": [],
   "source": [
    "def isleaf(node):\n",
    "    return node.left is None and node.right is None\n",
    "\n",
    "def leftboundary(root,res):\n",
    "    curr = root.left\n",
    "    while curr is not None:\n",
    "        if isleaf(curr) is False: res.append(curr.data)\n",
    "        if curr.left is not None: curr = curr.left\n",
    "        else: curr = curr.right\n",
    "\n",
    "def leaves(root,res):\n",
    "    if isleaf(root):\n",
    "        res.append(root.data)\n",
    "        return\n",
    "    if root.left is not None:\n",
    "        leaves(root.left,res)\n",
    "    if root.right is not None:\n",
    "        leaves(root.right,res)\n",
    "        \n",
    "def rightboundary(root,res):\n",
    "    curr = root.right\n",
    "    temp = []\n",
    "    while curr is not None:\n",
    "        if isleaf(curr) is False: temp.append(curr.data)\n",
    "        if curr.right is not None: curr = curr.right\n",
    "        else: curr = curr.left\n",
    "    while temp != []:\n",
    "        res.append(temp.pop())\n",
    "#     res = res[::-1]\n",
    "    \n",
    "def total_boundary(root):\n",
    "    ans=[]\n",
    "    if isleaf(root) is False: ans.append(root.data)\n",
    "    leftboundary(root,ans)\n",
    "    leaves(root,ans)\n",
    "    rightboundary(root,ans)\n",
    "    return ans\n"
   ]
  },
  {
   "cell_type": "code",
   "execution_count": 24,
   "metadata": {},
   "outputs": [
    {
     "name": "stdout",
     "output_type": "stream",
     "text": [
      "1 2 3 4 . 17 8 . 5 . . 9 12 6 7 10 11 . .\n",
      "1: L2,R3\n",
      "2: L4,\n",
      "3: L17,R8\n",
      "4: R5\n",
      "17: \n",
      "8: L9,R12\n",
      "5: L6,R7\n",
      "9: L10,R11\n",
      "12: \n",
      "6: \n",
      "7: \n",
      "10: \n",
      "11: \n",
      "[1, 2, 4, 5, 6, 7, 17, 10, 11, 12, 8, 3]\n"
     ]
    }
   ],
   "source": [
    "root = takeinput()\n",
    "printtree(root)\n",
    "print(total_boundary(root))"
   ]
  },
  {
   "cell_type": "code",
   "execution_count": null,
   "metadata": {},
   "outputs": [],
   "source": []
  }
 ],
 "metadata": {
  "kernelspec": {
   "display_name": "Python 3",
   "language": "python",
   "name": "python3"
  },
  "language_info": {
   "codemirror_mode": {
    "name": "ipython",
    "version": 3
   },
   "file_extension": ".py",
   "mimetype": "text/x-python",
   "name": "python",
   "nbconvert_exporter": "python",
   "pygments_lexer": "ipython3",
   "version": "3.8.5"
  }
 },
 "nbformat": 4,
 "nbformat_minor": 4
}
