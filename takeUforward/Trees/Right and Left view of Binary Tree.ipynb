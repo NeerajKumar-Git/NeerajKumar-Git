{
 "cells": [
  {
   "cell_type": "code",
   "execution_count": 1,
   "metadata": {},
   "outputs": [],
   "source": [
    "class Node:\n",
    "    def __init__(self,data):\n",
    "        self.data = data\n",
    "        self.left = None\n",
    "        self.right = None\n",
    "# takeinputlist\n",
    "import queue\n",
    "def takeinput():\n",
    "    q = queue.Queue()\n",
    "    num = input().split()\n",
    "    if num[0] == '.':\n",
    "        return None\n",
    "    root = Node(int(num[0]))\n",
    "    q.put(root)\n",
    "    i=1\n",
    "    j=2\n",
    "    while q.empty() is False:\n",
    "        if i>= len(num):\n",
    "            break\n",
    "        curr = q.get()\n",
    "        if num[i] != '.':\n",
    "            leftnode = Node(int(num[i]))\n",
    "            curr.left = leftnode\n",
    "            q.put(leftnode)\n",
    "        if num[j] != '.':\n",
    "            rightnode = Node(int(num[j]))\n",
    "            curr.right = rightnode\n",
    "            q.put(rightnode)\n",
    "        i+=2\n",
    "        j+=2\n",
    "    return root\n",
    "\n",
    "def printtree(root):\n",
    "    q = queue.Queue()\n",
    "    if root is None:\n",
    "        return\n",
    "    q.put(root)\n",
    "    while q.empty() is False:\n",
    "        curr = q.get()\n",
    "        print(str(curr.data)+':',end=' ')\n",
    "        if curr.left is not None:\n",
    "            print('L'+str(curr.left.data),end=',')\n",
    "            q.put(curr.left)\n",
    "        if curr.right is not None:\n",
    "            print('R'+str(curr.right.data),end='')\n",
    "            q.put(curr.right)\n",
    "        print()"
   ]
  },
  {
   "cell_type": "code",
   "execution_count": 11,
   "metadata": {},
   "outputs": [],
   "source": [
    "# level order traversal\n",
    "import queue\n",
    "def right_left_view(root):\n",
    "    q = queue.Queue()\n",
    "    q.put([root,0])\n",
    "    d = {}\n",
    "    while q.empty() is False:\n",
    "        curr, level = q.get()\n",
    "        if level not in d:\n",
    "            d[level] = [curr.data]\n",
    "        else:\n",
    "            d[level].append(curr.data)\n",
    "        if curr.left:\n",
    "            q.put([curr.left,level+1])\n",
    "        if curr.right:\n",
    "            q.put([curr.right,level+1])\n",
    "    left = []\n",
    "    right = []\n",
    "    for i in d:\n",
    "        left.append(d[i][0])\n",
    "        right.append(d[i][-1])\n",
    "    print(left)\n",
    "    print(right)\n",
    "    return\n",
    "\n",
    "# recursive\n",
    "right=[]\n",
    "def right_rec(root,level):\n",
    "    global right\n",
    "    if root is None:\n",
    "        return\n",
    "    if level == len(right):\n",
    "        right.append(root.data)\n",
    "    right_rec(root.right,level+1)\n",
    "    right_rec(root.left,level+1)\n",
    "    \n",
    "left=[]\n",
    "\n",
    "def left_rec(root,level):\n",
    "    global left\n",
    "    if root is None:\n",
    "        return\n",
    "    if level == len(left):\n",
    "        left.append(root.data)\n",
    "    left_rec(root.left,level+1)\n",
    "    left_rec(root.right,level+1)"
   ]
  },
  {
   "cell_type": "code",
   "execution_count": 12,
   "metadata": {},
   "outputs": [
    {
     "name": "stdout",
     "output_type": "stream",
     "text": [
      "1 2 8 3 4 . 9 . . 5 10 . . 6 . . 11 7 . . 12\n",
      "[1, 8, 9, 10, 11, 12]\n",
      "[1, 2, 3, 5, 6, 7]\n"
     ]
    }
   ],
   "source": [
    "root = takeinput()\n",
    "right_rec(root,0)\n",
    "print(right)\n",
    "left_rec(root,0)\n",
    "print(left)"
   ]
  },
  {
   "cell_type": "code",
   "execution_count": null,
   "metadata": {},
   "outputs": [],
   "source": []
  }
 ],
 "metadata": {
  "kernelspec": {
   "display_name": "Python 3",
   "language": "python",
   "name": "python3"
  },
  "language_info": {
   "codemirror_mode": {
    "name": "ipython",
    "version": 3
   },
   "file_extension": ".py",
   "mimetype": "text/x-python",
   "name": "python",
   "nbconvert_exporter": "python",
   "pygments_lexer": "ipython3",
   "version": "3.8.5"
  }
 },
 "nbformat": 4,
 "nbformat_minor": 4
}
