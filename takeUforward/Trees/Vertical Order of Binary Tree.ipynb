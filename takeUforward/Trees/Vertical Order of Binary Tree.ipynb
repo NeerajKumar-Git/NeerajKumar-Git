{
 "cells": [
  {
   "cell_type": "code",
   "execution_count": 1,
   "metadata": {},
   "outputs": [],
   "source": [
    "class Node:\n",
    "    def __init__(self,data):\n",
    "        self.data = data\n",
    "        self.left = None\n",
    "        self.right = None"
   ]
  },
  {
   "cell_type": "code",
   "execution_count": 2,
   "metadata": {},
   "outputs": [],
   "source": [
    "# takeinputlist\n",
    "import queue\n",
    "def takeinput():\n",
    "    q = queue.Queue()\n",
    "    num = input().split()\n",
    "    if num[0] == '.':\n",
    "        return None\n",
    "    root = Node(int(num[0]))\n",
    "    q.put(root)\n",
    "    i=1\n",
    "    j=2\n",
    "    while q.empty() is False:\n",
    "        if i>= len(num):\n",
    "            break\n",
    "        curr = q.get()\n",
    "        if num[i] != '.':\n",
    "            leftnode = Node(int(num[i]))\n",
    "            curr.left = leftnode\n",
    "            q.put(leftnode)\n",
    "        if num[j] != '.':\n",
    "            rightnode = Node(int(num[j]))\n",
    "            curr.right = rightnode\n",
    "            q.put(rightnode)\n",
    "        i+=2\n",
    "        j+=2\n",
    "    return root\n",
    "\n",
    "def printtree(root):\n",
    "    q = queue.Queue()\n",
    "    if root is None:\n",
    "        return\n",
    "    q.put(root)\n",
    "    while q.empty() is False:\n",
    "        curr = q.get()\n",
    "        print(str(curr.data)+':',end=' ')\n",
    "        if curr.left is not None:\n",
    "            print('L'+str(curr.left.data),end=',')\n",
    "            q.put(curr.left)\n",
    "        if curr.right is not None:\n",
    "            print('R'+str(curr.right.data),end='')\n",
    "            q.put(curr.right)\n",
    "        print()"
   ]
  },
  {
   "cell_type": "code",
   "execution_count": null,
   "metadata": {},
   "outputs": [],
   "source": [
    "import queue\n",
    "def vertical_order(root):\n",
    "    q = queue.Queue()\n",
    "    q.put([root,0,0])\n",
    "    final={}\n",
    "    while q.empty() is False:\n",
    "        curr, vert, level = q.get()\n",
    "        if curr.left is not None:\n",
    "            q.put([curr.left,vert-1,level+1])\n",
    "        if curr.right is not None:\n",
    "            q.put([curr.right,vert+1,level+1])\n",
    "\n",
    "        if vert not in final:\n",
    "            final[vert] = [(level,curr.val)]\n",
    "        else:\n",
    "            final[vert].append((level,curr.val))\n",
    "    ans=[]\n",
    "    for i in sorted(final.keys()):\n",
    "        temp=[]\n",
    "        for j in sorted(final[i]):\n",
    "            temp.append(j[1])\n",
    "        ans.append(temp)\n",
    "\n",
    "    return ans"
   ]
  }
 ],
 "metadata": {
  "kernelspec": {
   "display_name": "Python 3",
   "language": "python",
   "name": "python3"
  },
  "language_info": {
   "codemirror_mode": {
    "name": "ipython",
    "version": 3
   },
   "file_extension": ".py",
   "mimetype": "text/x-python",
   "name": "python",
   "nbconvert_exporter": "python",
   "pygments_lexer": "ipython3",
   "version": "3.8.5"
  }
 },
 "nbformat": 4,
 "nbformat_minor": 4
}
